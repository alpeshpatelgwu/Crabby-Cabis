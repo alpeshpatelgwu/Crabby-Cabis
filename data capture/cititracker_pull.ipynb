{
 "cells": [
  {
   "cell_type": "code",
   "execution_count": 1,
   "metadata": {},
   "outputs": [],
   "source": [
    "import os\n",
    "import csv\n",
    "import numpy as np\n",
    "import pandas as pd\n",
    "import datetime\n",
    "import requests\n"
   ]
  },
  {
   "cell_type": "code",
   "execution_count": 2,
   "metadata": {},
   "outputs": [
    {
     "name": "stdout",
     "output_type": "stream",
     "text": [
      "2019-05-11 13:09:04.628270\n"
     ]
    }
   ],
   "source": [
    "datetime_object = datetime.datetime.now()\n",
    "print(datetime_object)"
   ]
  },
  {
   "cell_type": "code",
   "execution_count": 3,
   "metadata": {},
   "outputs": [
    {
     "name": "stdout",
     "output_type": "stream",
     "text": [
      "2019-05-11\n"
     ]
    }
   ],
   "source": [
    "today = datetime.date.today()\n",
    "print(today)"
   ]
  },
  {
   "cell_type": "code",
   "execution_count": null,
   "metadata": {},
   "outputs": [],
   "source": [
    "day_delta = datetime.timedelta(days=1)\n",
    "\n",
    "def daterange(start_date, end_date):\n",
    "    for n in range(int ((end_date - start_date).days)):\n",
    "        yield start_date + timedelta(n)\n",
    "\n",
    "stop_date =  datetime.date.today()\n",
    "start_date = datetime.date(2016,10,1)\n",
    "\n",
    "while start_date < stop_date:\n",
    "#for x in daterange(start_date, stop_date):\n",
    "    #y = x.strftime(\"%Y-%m-%d\") + 15*(day_delta)\n",
    "    #y = x + 15*(day_delta)\n",
    "    y = start_date + 15*(day_delta)\n",
    "    url = f\"http://cabitracker.com/downloadoutage.php?s={start_date}&e={y}\"\n",
    "    r = requests.get(url)\n",
    "    with open (f'{start_date}-{y}.csv','wb') as f:\n",
    "        f.write(r.content)\n",
    "        print(url)\n",
    "    start_date = y +1*(day_delta)\n",
    "    #x = y + 1*(day_delta)\n",
    "    # print (x.strftime(\"%Y-%m-%d\"))\n"
   ]
  },
  {
   "cell_type": "code",
   "execution_count": 6,
   "metadata": {},
   "outputs": [
    {
     "name": "stdout",
     "output_type": "stream",
     "text": [
      "http://cabitracker.com/downloadoutage.php?s=2017-10-04&e=2017-10-11\n",
      "http://cabitracker.com/downloadoutage.php?s=2017-10-12&e=2017-10-19\n",
      "http://cabitracker.com/downloadoutage.php?s=2017-10-20&e=2017-10-27\n",
      "http://cabitracker.com/downloadoutage.php?s=2017-10-28&e=2017-11-04\n"
     ]
    }
   ],
   "source": [
    "# Testing the files that were skipped or returned null value:\n",
    "\n",
    "day_delta = datetime.timedelta(days=1)\n",
    "\n",
    "def daterange(start_date, end_date):\n",
    "    for n in range(int ((end_date - start_date).days)):\n",
    "        yield start_date + timedelta(n)\n",
    "\n",
    "#stop_date =  datetime.date.today()\n",
    "stop_date = datetime.date(2017,11,4)\n",
    "start_date = datetime.date(2017,10, 4) \n",
    "\n",
    "while start_date < stop_date:\n",
    "#for x in daterange(start_date, stop_date):\n",
    "    #y = x.strftime(\"%Y-%m-%d\") + 15*(day_delta)\n",
    "    #y = x + 15*(day_delta)\n",
    "    y = start_date + 7*(day_delta)\n",
    "    url = f\"http://cabitracker.com/downloadoutage.php?s={start_date}&e={y}\"\n",
    "    r = requests.get(url)\n",
    "    with open (f'{start_date}-{y}.csv','wb') as f:\n",
    "        f.write(r.content)\n",
    "        print(url)\n",
    "    start_date = y +1*(day_delta)\n",
    "    #x = y + 1*(day_delta)\n",
    "    # print (x.strftime(\"%Y-%m-%d\"))\n"
   ]
  },
  {
   "cell_type": "code",
   "execution_count": null,
   "metadata": {},
   "outputs": [],
   "source": []
  }
 ],
 "metadata": {
  "kernelspec": {
   "display_name": "Python 3",
   "language": "python",
   "name": "python3"
  },
  "language_info": {
   "codemirror_mode": {
    "name": "ipython",
    "version": 3
   },
   "file_extension": ".py",
   "mimetype": "text/x-python",
   "name": "python",
   "nbconvert_exporter": "python",
   "pygments_lexer": "ipython3",
   "version": "3.7.2"
  }
 },
 "nbformat": 4,
 "nbformat_minor": 2
}
